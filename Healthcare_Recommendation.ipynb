{
 "cells": [
  {
   "cell_type": "markdown",
   "id": "203d7bc4-fe23-4833-89ca-7eed1419d18c",
   "metadata": {},
   "source": [
    "# Step 1: Data Preprocessing\n",
    "\n",
    "#### We'll focus on predicting the test results column. Our goal is to develop a model that can recommend the likelihood of a patient's test results being \"Normal\", \"Abnormal\", or \"Inconclusive\" based on their medical condition, demographics and other factors."
   ]
  },
  {
   "cell_type": "code",
   "execution_count": 86,
   "id": "93cd82bf-9950-4514-a782-ada947a2cb5c",
   "metadata": {
    "tags": []
   },
   "outputs": [
    {
     "data": {
      "text/html": [
       "<div>\n",
       "<style scoped>\n",
       "    .dataframe tbody tr th:only-of-type {\n",
       "        vertical-align: middle;\n",
       "    }\n",
       "\n",
       "    .dataframe tbody tr th {\n",
       "        vertical-align: top;\n",
       "    }\n",
       "\n",
       "    .dataframe thead th {\n",
       "        text-align: right;\n",
       "    }\n",
       "</style>\n",
       "<table border=\"1\" class=\"dataframe\">\n",
       "  <thead>\n",
       "    <tr style=\"text-align: right;\">\n",
       "      <th></th>\n",
       "      <th>Name</th>\n",
       "      <th>Age</th>\n",
       "      <th>Gender</th>\n",
       "      <th>Blood Type</th>\n",
       "      <th>Medical Condition</th>\n",
       "      <th>Date of Admission</th>\n",
       "      <th>Doctor</th>\n",
       "      <th>Hospital</th>\n",
       "      <th>Insurance Provider</th>\n",
       "      <th>Billing Amount</th>\n",
       "      <th>Room Number</th>\n",
       "      <th>Admission Type</th>\n",
       "      <th>Discharge Date</th>\n",
       "      <th>Medication</th>\n",
       "      <th>Test Results</th>\n",
       "    </tr>\n",
       "  </thead>\n",
       "  <tbody>\n",
       "    <tr>\n",
       "      <th>0</th>\n",
       "      <td>Bobby JacksOn</td>\n",
       "      <td>30</td>\n",
       "      <td>Male</td>\n",
       "      <td>B-</td>\n",
       "      <td>Cancer</td>\n",
       "      <td>2024-01-31</td>\n",
       "      <td>Matthew Smith</td>\n",
       "      <td>Sons and Miller</td>\n",
       "      <td>Blue Cross</td>\n",
       "      <td>18856.281306</td>\n",
       "      <td>328</td>\n",
       "      <td>Urgent</td>\n",
       "      <td>2024-02-02</td>\n",
       "      <td>Paracetamol</td>\n",
       "      <td>Normal</td>\n",
       "    </tr>\n",
       "    <tr>\n",
       "      <th>1</th>\n",
       "      <td>LesLie TErRy</td>\n",
       "      <td>62</td>\n",
       "      <td>Male</td>\n",
       "      <td>A+</td>\n",
       "      <td>Obesity</td>\n",
       "      <td>2019-08-20</td>\n",
       "      <td>Samantha Davies</td>\n",
       "      <td>Kim Inc</td>\n",
       "      <td>Medicare</td>\n",
       "      <td>33643.327287</td>\n",
       "      <td>265</td>\n",
       "      <td>Emergency</td>\n",
       "      <td>2019-08-26</td>\n",
       "      <td>Ibuprofen</td>\n",
       "      <td>Inconclusive</td>\n",
       "    </tr>\n",
       "    <tr>\n",
       "      <th>2</th>\n",
       "      <td>DaNnY sMitH</td>\n",
       "      <td>76</td>\n",
       "      <td>Female</td>\n",
       "      <td>A-</td>\n",
       "      <td>Obesity</td>\n",
       "      <td>2022-09-22</td>\n",
       "      <td>Tiffany Mitchell</td>\n",
       "      <td>Cook PLC</td>\n",
       "      <td>Aetna</td>\n",
       "      <td>27955.096079</td>\n",
       "      <td>205</td>\n",
       "      <td>Emergency</td>\n",
       "      <td>2022-10-07</td>\n",
       "      <td>Aspirin</td>\n",
       "      <td>Normal</td>\n",
       "    </tr>\n",
       "    <tr>\n",
       "      <th>3</th>\n",
       "      <td>andrEw waTtS</td>\n",
       "      <td>28</td>\n",
       "      <td>Female</td>\n",
       "      <td>O+</td>\n",
       "      <td>Diabetes</td>\n",
       "      <td>2020-11-18</td>\n",
       "      <td>Kevin Wells</td>\n",
       "      <td>Hernandez Rogers and Vang,</td>\n",
       "      <td>Medicare</td>\n",
       "      <td>37909.782410</td>\n",
       "      <td>450</td>\n",
       "      <td>Elective</td>\n",
       "      <td>2020-12-18</td>\n",
       "      <td>Ibuprofen</td>\n",
       "      <td>Abnormal</td>\n",
       "    </tr>\n",
       "    <tr>\n",
       "      <th>4</th>\n",
       "      <td>adrIENNE bEll</td>\n",
       "      <td>43</td>\n",
       "      <td>Female</td>\n",
       "      <td>AB+</td>\n",
       "      <td>Cancer</td>\n",
       "      <td>2022-09-19</td>\n",
       "      <td>Kathleen Hanna</td>\n",
       "      <td>White-White</td>\n",
       "      <td>Aetna</td>\n",
       "      <td>14238.317814</td>\n",
       "      <td>458</td>\n",
       "      <td>Urgent</td>\n",
       "      <td>2022-10-09</td>\n",
       "      <td>Penicillin</td>\n",
       "      <td>Abnormal</td>\n",
       "    </tr>\n",
       "    <tr>\n",
       "      <th>...</th>\n",
       "      <td>...</td>\n",
       "      <td>...</td>\n",
       "      <td>...</td>\n",
       "      <td>...</td>\n",
       "      <td>...</td>\n",
       "      <td>...</td>\n",
       "      <td>...</td>\n",
       "      <td>...</td>\n",
       "      <td>...</td>\n",
       "      <td>...</td>\n",
       "      <td>...</td>\n",
       "      <td>...</td>\n",
       "      <td>...</td>\n",
       "      <td>...</td>\n",
       "      <td>...</td>\n",
       "    </tr>\n",
       "    <tr>\n",
       "      <th>55495</th>\n",
       "      <td>eLIZABeTH jaCkSOn</td>\n",
       "      <td>42</td>\n",
       "      <td>Female</td>\n",
       "      <td>O+</td>\n",
       "      <td>Asthma</td>\n",
       "      <td>2020-08-16</td>\n",
       "      <td>Joshua Jarvis</td>\n",
       "      <td>Jones-Thompson</td>\n",
       "      <td>Blue Cross</td>\n",
       "      <td>2650.714952</td>\n",
       "      <td>417</td>\n",
       "      <td>Elective</td>\n",
       "      <td>2020-09-15</td>\n",
       "      <td>Penicillin</td>\n",
       "      <td>Abnormal</td>\n",
       "    </tr>\n",
       "    <tr>\n",
       "      <th>55496</th>\n",
       "      <td>KYle pEREz</td>\n",
       "      <td>61</td>\n",
       "      <td>Female</td>\n",
       "      <td>AB-</td>\n",
       "      <td>Obesity</td>\n",
       "      <td>2020-01-23</td>\n",
       "      <td>Taylor Sullivan</td>\n",
       "      <td>Tucker-Moyer</td>\n",
       "      <td>Cigna</td>\n",
       "      <td>31457.797307</td>\n",
       "      <td>316</td>\n",
       "      <td>Elective</td>\n",
       "      <td>2020-02-01</td>\n",
       "      <td>Aspirin</td>\n",
       "      <td>Normal</td>\n",
       "    </tr>\n",
       "    <tr>\n",
       "      <th>55497</th>\n",
       "      <td>HEATher WaNG</td>\n",
       "      <td>38</td>\n",
       "      <td>Female</td>\n",
       "      <td>B+</td>\n",
       "      <td>Hypertension</td>\n",
       "      <td>2020-07-13</td>\n",
       "      <td>Joe Jacobs DVM</td>\n",
       "      <td>and Mahoney Johnson Vasquez,</td>\n",
       "      <td>UnitedHealthcare</td>\n",
       "      <td>27620.764717</td>\n",
       "      <td>347</td>\n",
       "      <td>Urgent</td>\n",
       "      <td>2020-08-10</td>\n",
       "      <td>Ibuprofen</td>\n",
       "      <td>Abnormal</td>\n",
       "    </tr>\n",
       "    <tr>\n",
       "      <th>55498</th>\n",
       "      <td>JENniFER JOneS</td>\n",
       "      <td>43</td>\n",
       "      <td>Male</td>\n",
       "      <td>O-</td>\n",
       "      <td>Arthritis</td>\n",
       "      <td>2019-05-25</td>\n",
       "      <td>Kimberly Curry</td>\n",
       "      <td>Jackson Todd and Castro,</td>\n",
       "      <td>Medicare</td>\n",
       "      <td>32451.092358</td>\n",
       "      <td>321</td>\n",
       "      <td>Elective</td>\n",
       "      <td>2019-05-31</td>\n",
       "      <td>Ibuprofen</td>\n",
       "      <td>Abnormal</td>\n",
       "    </tr>\n",
       "    <tr>\n",
       "      <th>55499</th>\n",
       "      <td>jAMES GARCiA</td>\n",
       "      <td>53</td>\n",
       "      <td>Female</td>\n",
       "      <td>O+</td>\n",
       "      <td>Arthritis</td>\n",
       "      <td>2024-04-02</td>\n",
       "      <td>Dennis Warren</td>\n",
       "      <td>Henry Sons and</td>\n",
       "      <td>Aetna</td>\n",
       "      <td>4010.134172</td>\n",
       "      <td>448</td>\n",
       "      <td>Urgent</td>\n",
       "      <td>2024-04-29</td>\n",
       "      <td>Ibuprofen</td>\n",
       "      <td>Abnormal</td>\n",
       "    </tr>\n",
       "  </tbody>\n",
       "</table>\n",
       "<p>55500 rows × 15 columns</p>\n",
       "</div>"
      ],
      "text/plain": [
       "                    Name  Age  Gender Blood Type Medical Condition  \\\n",
       "0          Bobby JacksOn   30    Male         B-            Cancer   \n",
       "1           LesLie TErRy   62    Male         A+           Obesity   \n",
       "2            DaNnY sMitH   76  Female         A-           Obesity   \n",
       "3           andrEw waTtS   28  Female         O+          Diabetes   \n",
       "4          adrIENNE bEll   43  Female        AB+            Cancer   \n",
       "...                  ...  ...     ...        ...               ...   \n",
       "55495  eLIZABeTH jaCkSOn   42  Female         O+            Asthma   \n",
       "55496         KYle pEREz   61  Female        AB-           Obesity   \n",
       "55497       HEATher WaNG   38  Female         B+      Hypertension   \n",
       "55498     JENniFER JOneS   43    Male         O-         Arthritis   \n",
       "55499       jAMES GARCiA   53  Female         O+         Arthritis   \n",
       "\n",
       "      Date of Admission            Doctor                      Hospital  \\\n",
       "0            2024-01-31     Matthew Smith               Sons and Miller   \n",
       "1            2019-08-20   Samantha Davies                       Kim Inc   \n",
       "2            2022-09-22  Tiffany Mitchell                      Cook PLC   \n",
       "3            2020-11-18       Kevin Wells    Hernandez Rogers and Vang,   \n",
       "4            2022-09-19    Kathleen Hanna                   White-White   \n",
       "...                 ...               ...                           ...   \n",
       "55495        2020-08-16     Joshua Jarvis                Jones-Thompson   \n",
       "55496        2020-01-23   Taylor Sullivan                  Tucker-Moyer   \n",
       "55497        2020-07-13    Joe Jacobs DVM  and Mahoney Johnson Vasquez,   \n",
       "55498        2019-05-25    Kimberly Curry      Jackson Todd and Castro,   \n",
       "55499        2024-04-02     Dennis Warren                Henry Sons and   \n",
       "\n",
       "      Insurance Provider  Billing Amount  Room Number Admission Type  \\\n",
       "0             Blue Cross    18856.281306          328         Urgent   \n",
       "1               Medicare    33643.327287          265      Emergency   \n",
       "2                  Aetna    27955.096079          205      Emergency   \n",
       "3               Medicare    37909.782410          450       Elective   \n",
       "4                  Aetna    14238.317814          458         Urgent   \n",
       "...                  ...             ...          ...            ...   \n",
       "55495         Blue Cross     2650.714952          417       Elective   \n",
       "55496              Cigna    31457.797307          316       Elective   \n",
       "55497   UnitedHealthcare    27620.764717          347         Urgent   \n",
       "55498           Medicare    32451.092358          321       Elective   \n",
       "55499              Aetna     4010.134172          448         Urgent   \n",
       "\n",
       "      Discharge Date   Medication  Test Results  \n",
       "0         2024-02-02  Paracetamol        Normal  \n",
       "1         2019-08-26    Ibuprofen  Inconclusive  \n",
       "2         2022-10-07      Aspirin        Normal  \n",
       "3         2020-12-18    Ibuprofen      Abnormal  \n",
       "4         2022-10-09   Penicillin      Abnormal  \n",
       "...              ...          ...           ...  \n",
       "55495     2020-09-15   Penicillin      Abnormal  \n",
       "55496     2020-02-01      Aspirin        Normal  \n",
       "55497     2020-08-10    Ibuprofen      Abnormal  \n",
       "55498     2019-05-31    Ibuprofen      Abnormal  \n",
       "55499     2024-04-29    Ibuprofen      Abnormal  \n",
       "\n",
       "[55500 rows x 15 columns]"
      ]
     },
     "execution_count": 86,
     "metadata": {},
     "output_type": "execute_result"
    }
   ],
   "source": [
    "import pandas as pd\n",
    "\n",
    "df = pd.read_csv('/Users/rayya/JupyterLab/healthcare_dataset.csv')\n",
    "df"
   ]
  },
  {
   "cell_type": "code",
   "execution_count": 87,
   "id": "ca371d93-ccdf-48b5-a806-2ec6476a3163",
   "metadata": {
    "tags": []
   },
   "outputs": [],
   "source": [
    "df = df[['Name', 'Age', 'Gender', 'Blood Type', 'Medical Condition', 'Admission Type', 'Medication', 'Date of Admission', 'Discharge Date','Test Results']]"
   ]
  },
  {
   "cell_type": "code",
   "execution_count": 88,
   "id": "de0432d4-013d-4263-b2e5-192997028076",
   "metadata": {
    "tags": []
   },
   "outputs": [
    {
     "name": "stderr",
     "output_type": "stream",
     "text": [
      "/var/folders/n_/db976cdd16lgmxwk67ppvmfr0000gn/T/ipykernel_871/1847279585.py:5: SettingWithCopyWarning: \n",
      "A value is trying to be set on a copy of a slice from a DataFrame.\n",
      "Try using .loc[row_indexer,col_indexer] = value instead\n",
      "\n",
      "See the caveats in the documentation: https://pandas.pydata.org/pandas-docs/stable/user_guide/indexing.html#returning-a-view-versus-a-copy\n",
      "  df['Name']= le.fit_transform(df['Name'])\n",
      "/var/folders/n_/db976cdd16lgmxwk67ppvmfr0000gn/T/ipykernel_871/1847279585.py:6: SettingWithCopyWarning: \n",
      "A value is trying to be set on a copy of a slice from a DataFrame.\n",
      "Try using .loc[row_indexer,col_indexer] = value instead\n",
      "\n",
      "See the caveats in the documentation: https://pandas.pydata.org/pandas-docs/stable/user_guide/indexing.html#returning-a-view-versus-a-copy\n",
      "  df['Age']= le.fit_transform(df['Age'])\n",
      "/var/folders/n_/db976cdd16lgmxwk67ppvmfr0000gn/T/ipykernel_871/1847279585.py:7: SettingWithCopyWarning: \n",
      "A value is trying to be set on a copy of a slice from a DataFrame.\n",
      "Try using .loc[row_indexer,col_indexer] = value instead\n",
      "\n",
      "See the caveats in the documentation: https://pandas.pydata.org/pandas-docs/stable/user_guide/indexing.html#returning-a-view-versus-a-copy\n",
      "  df['Gender']= le.fit_transform(df['Gender'])\n",
      "/var/folders/n_/db976cdd16lgmxwk67ppvmfr0000gn/T/ipykernel_871/1847279585.py:8: SettingWithCopyWarning: \n",
      "A value is trying to be set on a copy of a slice from a DataFrame.\n",
      "Try using .loc[row_indexer,col_indexer] = value instead\n",
      "\n",
      "See the caveats in the documentation: https://pandas.pydata.org/pandas-docs/stable/user_guide/indexing.html#returning-a-view-versus-a-copy\n",
      "  df['Blood Type']= le.fit_transform(df['Blood Type'])\n",
      "/var/folders/n_/db976cdd16lgmxwk67ppvmfr0000gn/T/ipykernel_871/1847279585.py:9: SettingWithCopyWarning: \n",
      "A value is trying to be set on a copy of a slice from a DataFrame.\n",
      "Try using .loc[row_indexer,col_indexer] = value instead\n",
      "\n",
      "See the caveats in the documentation: https://pandas.pydata.org/pandas-docs/stable/user_guide/indexing.html#returning-a-view-versus-a-copy\n",
      "  df['Medical Condition']= le.fit_transform(df['Medical Condition'])\n",
      "/var/folders/n_/db976cdd16lgmxwk67ppvmfr0000gn/T/ipykernel_871/1847279585.py:10: SettingWithCopyWarning: \n",
      "A value is trying to be set on a copy of a slice from a DataFrame.\n",
      "Try using .loc[row_indexer,col_indexer] = value instead\n",
      "\n",
      "See the caveats in the documentation: https://pandas.pydata.org/pandas-docs/stable/user_guide/indexing.html#returning-a-view-versus-a-copy\n",
      "  df['Admission Type']= le.fit_transform(df['Admission Type'])\n",
      "/var/folders/n_/db976cdd16lgmxwk67ppvmfr0000gn/T/ipykernel_871/1847279585.py:11: SettingWithCopyWarning: \n",
      "A value is trying to be set on a copy of a slice from a DataFrame.\n",
      "Try using .loc[row_indexer,col_indexer] = value instead\n",
      "\n",
      "See the caveats in the documentation: https://pandas.pydata.org/pandas-docs/stable/user_guide/indexing.html#returning-a-view-versus-a-copy\n",
      "  df['Medication']= le.fit_transform(df['Medication'])\n",
      "/var/folders/n_/db976cdd16lgmxwk67ppvmfr0000gn/T/ipykernel_871/1847279585.py:12: SettingWithCopyWarning: \n",
      "A value is trying to be set on a copy of a slice from a DataFrame.\n",
      "Try using .loc[row_indexer,col_indexer] = value instead\n",
      "\n",
      "See the caveats in the documentation: https://pandas.pydata.org/pandas-docs/stable/user_guide/indexing.html#returning-a-view-versus-a-copy\n",
      "  df['Date of Admission']= le.fit_transform(df['Date of Admission'])\n",
      "/var/folders/n_/db976cdd16lgmxwk67ppvmfr0000gn/T/ipykernel_871/1847279585.py:13: SettingWithCopyWarning: \n",
      "A value is trying to be set on a copy of a slice from a DataFrame.\n",
      "Try using .loc[row_indexer,col_indexer] = value instead\n",
      "\n",
      "See the caveats in the documentation: https://pandas.pydata.org/pandas-docs/stable/user_guide/indexing.html#returning-a-view-versus-a-copy\n",
      "  df['Discharge Date']= le.fit_transform(df['Discharge Date'])\n",
      "/var/folders/n_/db976cdd16lgmxwk67ppvmfr0000gn/T/ipykernel_871/1847279585.py:14: SettingWithCopyWarning: \n",
      "A value is trying to be set on a copy of a slice from a DataFrame.\n",
      "Try using .loc[row_indexer,col_indexer] = value instead\n",
      "\n",
      "See the caveats in the documentation: https://pandas.pydata.org/pandas-docs/stable/user_guide/indexing.html#returning-a-view-versus-a-copy\n",
      "  df['Test Results']= le.fit_transform(df['Test Results'])\n"
     ]
    }
   ],
   "source": [
    "from sklearn.preprocessing import LabelEncoder\n",
    "\n",
    "# Encode categorical variables into numerical\n",
    "le = LabelEncoder()\n",
    "df['Name']= le.fit_transform(df['Name'])\n",
    "df['Age']= le.fit_transform(df['Age'])\n",
    "df['Gender']= le.fit_transform(df['Gender'])\n",
    "df['Blood Type']= le.fit_transform(df['Blood Type'])\n",
    "df['Medical Condition']= le.fit_transform(df['Medical Condition'])\n",
    "df['Admission Type']= le.fit_transform(df['Admission Type'])\n",
    "df['Medication']= le.fit_transform(df['Medication'])\n",
    "df['Date of Admission']= le.fit_transform(df['Date of Admission'])\n",
    "df['Discharge Date']= le.fit_transform(df['Discharge Date'])\n",
    "df['Test Results']= le.fit_transform(df['Test Results'])"
   ]
  },
  {
   "cell_type": "code",
   "execution_count": 89,
   "id": "1d3e4d0f-c909-4012-9700-1248317772af",
   "metadata": {
    "tags": []
   },
   "outputs": [],
   "source": [
    "X = df.drop(['Test Results'], axis=1)\n",
    "y = df['Test Results']"
   ]
  },
  {
   "cell_type": "code",
   "execution_count": 90,
   "id": "0dc5333e-3f35-4d18-ae2e-ba253b6c8f1e",
   "metadata": {
    "tags": []
   },
   "outputs": [],
   "source": [
    "# Reducing the dataset size \n",
    "n_samples = 20000\n",
    "\n",
    "X_small = X.iloc[:n_samples]\n",
    "y_small = y.iloc[:n_samples]"
   ]
  },
  {
   "cell_type": "code",
   "execution_count": 91,
   "id": "00cb414d-2888-4773-831b-ebb0322fcf48",
   "metadata": {
    "tags": []
   },
   "outputs": [
    {
     "name": "stdout",
     "output_type": "stream",
     "text": [
      "(16000, 9)\n",
      "(4000, 9)\n"
     ]
    }
   ],
   "source": [
    "from sklearn.model_selection import train_test_split\n",
    "X_train, X_test, y_train, y_test = train_test_split (X_small, y_small, test_size=0.2, random_state=100)\n",
    "\n",
    "print(X_train.shape)\n",
    "print(X_test.shape)"
   ]
  },
  {
   "cell_type": "markdown",
   "id": "001ee110-384c-4770-bb12-7a7cc9217bb0",
   "metadata": {},
   "source": [
    "# Step 2: Model Building "
   ]
  },
  {
   "cell_type": "markdown",
   "id": "aa3378a1-46e2-45ac-a990-d4ad975ac93a",
   "metadata": {
    "tags": []
   },
   "source": [
    "## RandomForest "
   ]
  },
  {
   "cell_type": "markdown",
   "id": "37eb9238-e5b0-4ce1-a474-5399abcb4573",
   "metadata": {},
   "source": [
    "### Training Model"
   ]
  },
  {
   "cell_type": "code",
   "execution_count": 92,
   "id": "12862069-c43d-4c15-9e58-64fd9b9ca002",
   "metadata": {
    "tags": []
   },
   "outputs": [
    {
     "data": {
      "text/html": [
       "<style>#sk-container-id-6 {color: black;}#sk-container-id-6 pre{padding: 0;}#sk-container-id-6 div.sk-toggleable {background-color: white;}#sk-container-id-6 label.sk-toggleable__label {cursor: pointer;display: block;width: 100%;margin-bottom: 0;padding: 0.3em;box-sizing: border-box;text-align: center;}#sk-container-id-6 label.sk-toggleable__label-arrow:before {content: \"▸\";float: left;margin-right: 0.25em;color: #696969;}#sk-container-id-6 label.sk-toggleable__label-arrow:hover:before {color: black;}#sk-container-id-6 div.sk-estimator:hover label.sk-toggleable__label-arrow:before {color: black;}#sk-container-id-6 div.sk-toggleable__content {max-height: 0;max-width: 0;overflow: hidden;text-align: left;background-color: #f0f8ff;}#sk-container-id-6 div.sk-toggleable__content pre {margin: 0.2em;color: black;border-radius: 0.25em;background-color: #f0f8ff;}#sk-container-id-6 input.sk-toggleable__control:checked~div.sk-toggleable__content {max-height: 200px;max-width: 100%;overflow: auto;}#sk-container-id-6 input.sk-toggleable__control:checked~label.sk-toggleable__label-arrow:before {content: \"▾\";}#sk-container-id-6 div.sk-estimator input.sk-toggleable__control:checked~label.sk-toggleable__label {background-color: #d4ebff;}#sk-container-id-6 div.sk-label input.sk-toggleable__control:checked~label.sk-toggleable__label {background-color: #d4ebff;}#sk-container-id-6 input.sk-hidden--visually {border: 0;clip: rect(1px 1px 1px 1px);clip: rect(1px, 1px, 1px, 1px);height: 1px;margin: -1px;overflow: hidden;padding: 0;position: absolute;width: 1px;}#sk-container-id-6 div.sk-estimator {font-family: monospace;background-color: #f0f8ff;border: 1px dotted black;border-radius: 0.25em;box-sizing: border-box;margin-bottom: 0.5em;}#sk-container-id-6 div.sk-estimator:hover {background-color: #d4ebff;}#sk-container-id-6 div.sk-parallel-item::after {content: \"\";width: 100%;border-bottom: 1px solid gray;flex-grow: 1;}#sk-container-id-6 div.sk-label:hover label.sk-toggleable__label {background-color: #d4ebff;}#sk-container-id-6 div.sk-serial::before {content: \"\";position: absolute;border-left: 1px solid gray;box-sizing: border-box;top: 0;bottom: 0;left: 50%;z-index: 0;}#sk-container-id-6 div.sk-serial {display: flex;flex-direction: column;align-items: center;background-color: white;padding-right: 0.2em;padding-left: 0.2em;position: relative;}#sk-container-id-6 div.sk-item {position: relative;z-index: 1;}#sk-container-id-6 div.sk-parallel {display: flex;align-items: stretch;justify-content: center;background-color: white;position: relative;}#sk-container-id-6 div.sk-item::before, #sk-container-id-6 div.sk-parallel-item::before {content: \"\";position: absolute;border-left: 1px solid gray;box-sizing: border-box;top: 0;bottom: 0;left: 50%;z-index: -1;}#sk-container-id-6 div.sk-parallel-item {display: flex;flex-direction: column;z-index: 1;position: relative;background-color: white;}#sk-container-id-6 div.sk-parallel-item:first-child::after {align-self: flex-end;width: 50%;}#sk-container-id-6 div.sk-parallel-item:last-child::after {align-self: flex-start;width: 50%;}#sk-container-id-6 div.sk-parallel-item:only-child::after {width: 0;}#sk-container-id-6 div.sk-dashed-wrapped {border: 1px dashed gray;margin: 0 0.4em 0.5em 0.4em;box-sizing: border-box;padding-bottom: 0.4em;background-color: white;}#sk-container-id-6 div.sk-label label {font-family: monospace;font-weight: bold;display: inline-block;line-height: 1.2em;}#sk-container-id-6 div.sk-label-container {text-align: center;}#sk-container-id-6 div.sk-container {/* jupyter's `normalize.less` sets `[hidden] { display: none; }` but bootstrap.min.css set `[hidden] { display: none !important; }` so we also need the `!important` here to be able to override the default hidden behavior on the sphinx rendered scikit-learn.org. See: https://github.com/scikit-learn/scikit-learn/issues/21755 */display: inline-block !important;position: relative;}#sk-container-id-6 div.sk-text-repr-fallback {display: none;}</style><div id=\"sk-container-id-6\" class=\"sk-top-container\"><div class=\"sk-text-repr-fallback\"><pre>RandomForestClassifier(max_depth=2, random_state=100)</pre><b>In a Jupyter environment, please rerun this cell to show the HTML representation or trust the notebook. <br />On GitHub, the HTML representation is unable to render, please try loading this page with nbviewer.org.</b></div><div class=\"sk-container\" hidden><div class=\"sk-item\"><div class=\"sk-estimator sk-toggleable\"><input class=\"sk-toggleable__control sk-hidden--visually\" id=\"sk-estimator-id-6\" type=\"checkbox\" checked><label for=\"sk-estimator-id-6\" class=\"sk-toggleable__label sk-toggleable__label-arrow\">RandomForestClassifier</label><div class=\"sk-toggleable__content\"><pre>RandomForestClassifier(max_depth=2, random_state=100)</pre></div></div></div></div></div>"
      ],
      "text/plain": [
       "RandomForestClassifier(max_depth=2, random_state=100)"
      ]
     },
     "execution_count": 92,
     "metadata": {},
     "output_type": "execute_result"
    }
   ],
   "source": [
    "from sklearn.ensemble import RandomForestClassifier\n",
    "\n",
    "rf = RandomForestClassifier(max_depth=2, random_state=100)\n",
    "rf.fit(X_train, y_train)"
   ]
  },
  {
   "cell_type": "markdown",
   "id": "1755d663-a48a-4a01-9e61-13f75ec44219",
   "metadata": {},
   "source": [
    "### Applying model for predictions"
   ]
  },
  {
   "cell_type": "code",
   "execution_count": 93,
   "id": "2ccc0345-4362-48ca-b57b-008dce24f3bf",
   "metadata": {
    "tags": []
   },
   "outputs": [
    {
     "name": "stdout",
     "output_type": "stream",
     "text": [
      "[0 2 0 ... 2 0 2]\n",
      "[0 0 2 ... 2 0 2]\n"
     ]
    }
   ],
   "source": [
    "y_rf_train_pred = rf.predict(X_train)\n",
    "y_rf_test_pred = rf.predict(X_test)\n",
    "\n",
    "print(y_rf_train_pred)\n",
    "print(y_rf_test_pred)"
   ]
  },
  {
   "cell_type": "markdown",
   "id": "3523eda4-3792-4412-8d96-a14f117c5051",
   "metadata": {},
   "source": [
    "### Evaluating Model Performance"
   ]
  },
  {
   "cell_type": "code",
   "execution_count": 94,
   "id": "b2e52114-3526-43de-97cf-8091321ea8b6",
   "metadata": {
    "tags": []
   },
   "outputs": [],
   "source": [
    "from sklearn.metrics import accuracy_score, classification_report "
   ]
  },
  {
   "cell_type": "code",
   "execution_count": 95,
   "id": "2a4259fe-99fd-423d-82e7-9f3a181049cd",
   "metadata": {
    "tags": []
   },
   "outputs": [
    {
     "name": "stdout",
     "output_type": "stream",
     "text": [
      "0.3524375 0.32875\n"
     ]
    }
   ],
   "source": [
    "# Accuracy Score\n",
    "\n",
    "rf_train_as = accuracy_score(y_train, y_rf_train_pred)\n",
    "rf_test_as = accuracy_score(y_test, y_rf_test_pred)\n",
    "\n",
    "print(rf_train_as, rf_test_as)"
   ]
  },
  {
   "cell_type": "code",
   "execution_count": 96,
   "id": "2d14179d-20b9-4439-a2ff-8837858e6a9d",
   "metadata": {
    "tags": []
   },
   "outputs": [
    {
     "name": "stdout",
     "output_type": "stream",
     "text": [
      "              precision    recall  f1-score   support\n",
      "\n",
      "           0       0.34      0.67      0.46      5382\n",
      "           1       0.45      0.05      0.09      5282\n",
      "           2       0.36      0.33      0.34      5336\n",
      "\n",
      "    accuracy                           0.35     16000\n",
      "   macro avg       0.39      0.35      0.30     16000\n",
      "weighted avg       0.39      0.35      0.30     16000\n",
      "               precision    recall  f1-score   support\n",
      "\n",
      "           0       0.33      0.66      0.44      1323\n",
      "           1       0.31      0.03      0.05      1371\n",
      "           2       0.34      0.31      0.32      1306\n",
      "\n",
      "    accuracy                           0.33      4000\n",
      "   macro avg       0.32      0.33      0.27      4000\n",
      "weighted avg       0.32      0.33      0.27      4000\n",
      "\n"
     ]
    }
   ],
   "source": [
    "# Classification Report\n",
    "\n",
    "rf_train_cr = classification_report(y_train, y_rf_train_pred)\n",
    "rf_test_cr = classification_report(y_test, y_rf_test_pred)\n",
    "\n",
    "print(rf_train_cr, rf_test_cr)"
   ]
  },
  {
   "cell_type": "markdown",
   "id": "1137c9bd-ee5e-404d-b74e-8878494d8ec7",
   "metadata": {},
   "source": [
    "## SVC"
   ]
  },
  {
   "cell_type": "markdown",
   "id": "3529e36a-0e9f-47c4-897d-6b2b3ecfa5c5",
   "metadata": {},
   "source": [
    "### Training Model"
   ]
  },
  {
   "cell_type": "code",
   "execution_count": 97,
   "id": "b8a3e7fa-05eb-4141-b071-19e1b5dcec5c",
   "metadata": {
    "tags": []
   },
   "outputs": [
    {
     "data": {
      "text/html": [
       "<style>#sk-container-id-7 {color: black;}#sk-container-id-7 pre{padding: 0;}#sk-container-id-7 div.sk-toggleable {background-color: white;}#sk-container-id-7 label.sk-toggleable__label {cursor: pointer;display: block;width: 100%;margin-bottom: 0;padding: 0.3em;box-sizing: border-box;text-align: center;}#sk-container-id-7 label.sk-toggleable__label-arrow:before {content: \"▸\";float: left;margin-right: 0.25em;color: #696969;}#sk-container-id-7 label.sk-toggleable__label-arrow:hover:before {color: black;}#sk-container-id-7 div.sk-estimator:hover label.sk-toggleable__label-arrow:before {color: black;}#sk-container-id-7 div.sk-toggleable__content {max-height: 0;max-width: 0;overflow: hidden;text-align: left;background-color: #f0f8ff;}#sk-container-id-7 div.sk-toggleable__content pre {margin: 0.2em;color: black;border-radius: 0.25em;background-color: #f0f8ff;}#sk-container-id-7 input.sk-toggleable__control:checked~div.sk-toggleable__content {max-height: 200px;max-width: 100%;overflow: auto;}#sk-container-id-7 input.sk-toggleable__control:checked~label.sk-toggleable__label-arrow:before {content: \"▾\";}#sk-container-id-7 div.sk-estimator input.sk-toggleable__control:checked~label.sk-toggleable__label {background-color: #d4ebff;}#sk-container-id-7 div.sk-label input.sk-toggleable__control:checked~label.sk-toggleable__label {background-color: #d4ebff;}#sk-container-id-7 input.sk-hidden--visually {border: 0;clip: rect(1px 1px 1px 1px);clip: rect(1px, 1px, 1px, 1px);height: 1px;margin: -1px;overflow: hidden;padding: 0;position: absolute;width: 1px;}#sk-container-id-7 div.sk-estimator {font-family: monospace;background-color: #f0f8ff;border: 1px dotted black;border-radius: 0.25em;box-sizing: border-box;margin-bottom: 0.5em;}#sk-container-id-7 div.sk-estimator:hover {background-color: #d4ebff;}#sk-container-id-7 div.sk-parallel-item::after {content: \"\";width: 100%;border-bottom: 1px solid gray;flex-grow: 1;}#sk-container-id-7 div.sk-label:hover label.sk-toggleable__label {background-color: #d4ebff;}#sk-container-id-7 div.sk-serial::before {content: \"\";position: absolute;border-left: 1px solid gray;box-sizing: border-box;top: 0;bottom: 0;left: 50%;z-index: 0;}#sk-container-id-7 div.sk-serial {display: flex;flex-direction: column;align-items: center;background-color: white;padding-right: 0.2em;padding-left: 0.2em;position: relative;}#sk-container-id-7 div.sk-item {position: relative;z-index: 1;}#sk-container-id-7 div.sk-parallel {display: flex;align-items: stretch;justify-content: center;background-color: white;position: relative;}#sk-container-id-7 div.sk-item::before, #sk-container-id-7 div.sk-parallel-item::before {content: \"\";position: absolute;border-left: 1px solid gray;box-sizing: border-box;top: 0;bottom: 0;left: 50%;z-index: -1;}#sk-container-id-7 div.sk-parallel-item {display: flex;flex-direction: column;z-index: 1;position: relative;background-color: white;}#sk-container-id-7 div.sk-parallel-item:first-child::after {align-self: flex-end;width: 50%;}#sk-container-id-7 div.sk-parallel-item:last-child::after {align-self: flex-start;width: 50%;}#sk-container-id-7 div.sk-parallel-item:only-child::after {width: 0;}#sk-container-id-7 div.sk-dashed-wrapped {border: 1px dashed gray;margin: 0 0.4em 0.5em 0.4em;box-sizing: border-box;padding-bottom: 0.4em;background-color: white;}#sk-container-id-7 div.sk-label label {font-family: monospace;font-weight: bold;display: inline-block;line-height: 1.2em;}#sk-container-id-7 div.sk-label-container {text-align: center;}#sk-container-id-7 div.sk-container {/* jupyter's `normalize.less` sets `[hidden] { display: none; }` but bootstrap.min.css set `[hidden] { display: none !important; }` so we also need the `!important` here to be able to override the default hidden behavior on the sphinx rendered scikit-learn.org. See: https://github.com/scikit-learn/scikit-learn/issues/21755 */display: inline-block !important;position: relative;}#sk-container-id-7 div.sk-text-repr-fallback {display: none;}</style><div id=\"sk-container-id-7\" class=\"sk-top-container\"><div class=\"sk-text-repr-fallback\"><pre>SVC()</pre><b>In a Jupyter environment, please rerun this cell to show the HTML representation or trust the notebook. <br />On GitHub, the HTML representation is unable to render, please try loading this page with nbviewer.org.</b></div><div class=\"sk-container\" hidden><div class=\"sk-item\"><div class=\"sk-estimator sk-toggleable\"><input class=\"sk-toggleable__control sk-hidden--visually\" id=\"sk-estimator-id-7\" type=\"checkbox\" checked><label for=\"sk-estimator-id-7\" class=\"sk-toggleable__label sk-toggleable__label-arrow\">SVC</label><div class=\"sk-toggleable__content\"><pre>SVC()</pre></div></div></div></div></div>"
      ],
      "text/plain": [
       "SVC()"
      ]
     },
     "execution_count": 97,
     "metadata": {},
     "output_type": "execute_result"
    }
   ],
   "source": [
    "from sklearn import svm\n",
    "\n",
    "svc = svm.SVC()\n",
    "svc.fit(X_train, y_train)"
   ]
  },
  {
   "cell_type": "markdown",
   "id": "85e83612-8d5c-4883-bd74-915a653906e1",
   "metadata": {},
   "source": [
    "### Applying Model for Predictions "
   ]
  },
  {
   "cell_type": "code",
   "execution_count": 98,
   "id": "dcd872af-b1e9-4c43-9576-07178ab4d327",
   "metadata": {
    "tags": []
   },
   "outputs": [
    {
     "name": "stdout",
     "output_type": "stream",
     "text": [
      "[0 0 0 ... 1 0 2]\n",
      "[2 0 2 ... 2 0 0]\n"
     ]
    }
   ],
   "source": [
    "y_svc_train_pred = svc.predict(X_train)\n",
    "y_svc_test_pred = svc.predict(X_test)\n",
    "\n",
    "print(y_svc_train_pred)\n",
    "print(y_svc_test_pred)"
   ]
  },
  {
   "cell_type": "markdown",
   "id": "9dacaa29-c7bc-42ae-ba4e-eb528815ad50",
   "metadata": {},
   "source": [
    "### Evaluating Model Performance "
   ]
  },
  {
   "cell_type": "code",
   "execution_count": 99,
   "id": "67392d48-54f8-47a0-9c00-3c0673bbd6e2",
   "metadata": {
    "tags": []
   },
   "outputs": [],
   "source": [
    "from sklearn.metrics import accuracy_score, classification_report "
   ]
  },
  {
   "cell_type": "code",
   "execution_count": 100,
   "id": "947c7064-f0a1-437e-a6db-ca1347873b8f",
   "metadata": {
    "tags": []
   },
   "outputs": [
    {
     "name": "stdout",
     "output_type": "stream",
     "text": [
      "0.33775 0.339\n"
     ]
    }
   ],
   "source": [
    "# Accuracy Score\n",
    "\n",
    "svc_train_as = accuracy_score(y_train, y_svc_train_pred)\n",
    "svc_test_as = accuracy_score(y_test, y_svc_test_pred)\n",
    "\n",
    "print(svc_train_as, svc_test_as)"
   ]
  },
  {
   "cell_type": "code",
   "execution_count": 101,
   "id": "759e36f7-0756-4787-b9f8-5efffe707d4d",
   "metadata": {
    "tags": []
   },
   "outputs": [
    {
     "name": "stdout",
     "output_type": "stream",
     "text": [
      "              precision    recall  f1-score   support\n",
      "\n",
      "           0       0.34      0.54      0.42      5382\n",
      "           1       0.34      0.13      0.19      5282\n",
      "           2       0.34      0.34      0.34      5336\n",
      "\n",
      "    accuracy                           0.34     16000\n",
      "   macro avg       0.34      0.34      0.31     16000\n",
      "weighted avg       0.34      0.34      0.31     16000\n",
      "               precision    recall  f1-score   support\n",
      "\n",
      "           0       0.34      0.55      0.42      1323\n",
      "           1       0.35      0.12      0.18      1371\n",
      "           2       0.34      0.35      0.34      1306\n",
      "\n",
      "    accuracy                           0.34      4000\n",
      "   macro avg       0.34      0.34      0.32      4000\n",
      "weighted avg       0.34      0.34      0.31      4000\n",
      "\n"
     ]
    }
   ],
   "source": [
    "# Classification Report \n",
    "\n",
    "svc_train_cr = classification_report(y_train, y_svc_train_pred)\n",
    "svc_test_cr = classification_report(y_test, y_svc_test_pred)\n",
    "\n",
    "print(svc_train_cr, svc_test_cr)"
   ]
  },
  {
   "cell_type": "markdown",
   "id": "47788548-6102-47fd-a354-c004828a4719",
   "metadata": {},
   "source": [
    "## Naive Bayes"
   ]
  },
  {
   "cell_type": "markdown",
   "id": "3326fb2e-bcd8-4e64-8da0-dfd7f998f883",
   "metadata": {},
   "source": [
    "### Training Model"
   ]
  },
  {
   "cell_type": "code",
   "execution_count": 102,
   "id": "3763b3ac-2b6a-423c-9664-7784ce859496",
   "metadata": {
    "tags": []
   },
   "outputs": [
    {
     "data": {
      "text/html": [
       "<style>#sk-container-id-8 {color: black;}#sk-container-id-8 pre{padding: 0;}#sk-container-id-8 div.sk-toggleable {background-color: white;}#sk-container-id-8 label.sk-toggleable__label {cursor: pointer;display: block;width: 100%;margin-bottom: 0;padding: 0.3em;box-sizing: border-box;text-align: center;}#sk-container-id-8 label.sk-toggleable__label-arrow:before {content: \"▸\";float: left;margin-right: 0.25em;color: #696969;}#sk-container-id-8 label.sk-toggleable__label-arrow:hover:before {color: black;}#sk-container-id-8 div.sk-estimator:hover label.sk-toggleable__label-arrow:before {color: black;}#sk-container-id-8 div.sk-toggleable__content {max-height: 0;max-width: 0;overflow: hidden;text-align: left;background-color: #f0f8ff;}#sk-container-id-8 div.sk-toggleable__content pre {margin: 0.2em;color: black;border-radius: 0.25em;background-color: #f0f8ff;}#sk-container-id-8 input.sk-toggleable__control:checked~div.sk-toggleable__content {max-height: 200px;max-width: 100%;overflow: auto;}#sk-container-id-8 input.sk-toggleable__control:checked~label.sk-toggleable__label-arrow:before {content: \"▾\";}#sk-container-id-8 div.sk-estimator input.sk-toggleable__control:checked~label.sk-toggleable__label {background-color: #d4ebff;}#sk-container-id-8 div.sk-label input.sk-toggleable__control:checked~label.sk-toggleable__label {background-color: #d4ebff;}#sk-container-id-8 input.sk-hidden--visually {border: 0;clip: rect(1px 1px 1px 1px);clip: rect(1px, 1px, 1px, 1px);height: 1px;margin: -1px;overflow: hidden;padding: 0;position: absolute;width: 1px;}#sk-container-id-8 div.sk-estimator {font-family: monospace;background-color: #f0f8ff;border: 1px dotted black;border-radius: 0.25em;box-sizing: border-box;margin-bottom: 0.5em;}#sk-container-id-8 div.sk-estimator:hover {background-color: #d4ebff;}#sk-container-id-8 div.sk-parallel-item::after {content: \"\";width: 100%;border-bottom: 1px solid gray;flex-grow: 1;}#sk-container-id-8 div.sk-label:hover label.sk-toggleable__label {background-color: #d4ebff;}#sk-container-id-8 div.sk-serial::before {content: \"\";position: absolute;border-left: 1px solid gray;box-sizing: border-box;top: 0;bottom: 0;left: 50%;z-index: 0;}#sk-container-id-8 div.sk-serial {display: flex;flex-direction: column;align-items: center;background-color: white;padding-right: 0.2em;padding-left: 0.2em;position: relative;}#sk-container-id-8 div.sk-item {position: relative;z-index: 1;}#sk-container-id-8 div.sk-parallel {display: flex;align-items: stretch;justify-content: center;background-color: white;position: relative;}#sk-container-id-8 div.sk-item::before, #sk-container-id-8 div.sk-parallel-item::before {content: \"\";position: absolute;border-left: 1px solid gray;box-sizing: border-box;top: 0;bottom: 0;left: 50%;z-index: -1;}#sk-container-id-8 div.sk-parallel-item {display: flex;flex-direction: column;z-index: 1;position: relative;background-color: white;}#sk-container-id-8 div.sk-parallel-item:first-child::after {align-self: flex-end;width: 50%;}#sk-container-id-8 div.sk-parallel-item:last-child::after {align-self: flex-start;width: 50%;}#sk-container-id-8 div.sk-parallel-item:only-child::after {width: 0;}#sk-container-id-8 div.sk-dashed-wrapped {border: 1px dashed gray;margin: 0 0.4em 0.5em 0.4em;box-sizing: border-box;padding-bottom: 0.4em;background-color: white;}#sk-container-id-8 div.sk-label label {font-family: monospace;font-weight: bold;display: inline-block;line-height: 1.2em;}#sk-container-id-8 div.sk-label-container {text-align: center;}#sk-container-id-8 div.sk-container {/* jupyter's `normalize.less` sets `[hidden] { display: none; }` but bootstrap.min.css set `[hidden] { display: none !important; }` so we also need the `!important` here to be able to override the default hidden behavior on the sphinx rendered scikit-learn.org. See: https://github.com/scikit-learn/scikit-learn/issues/21755 */display: inline-block !important;position: relative;}#sk-container-id-8 div.sk-text-repr-fallback {display: none;}</style><div id=\"sk-container-id-8\" class=\"sk-top-container\"><div class=\"sk-text-repr-fallback\"><pre>GaussianNB()</pre><b>In a Jupyter environment, please rerun this cell to show the HTML representation or trust the notebook. <br />On GitHub, the HTML representation is unable to render, please try loading this page with nbviewer.org.</b></div><div class=\"sk-container\" hidden><div class=\"sk-item\"><div class=\"sk-estimator sk-toggleable\"><input class=\"sk-toggleable__control sk-hidden--visually\" id=\"sk-estimator-id-8\" type=\"checkbox\" checked><label for=\"sk-estimator-id-8\" class=\"sk-toggleable__label sk-toggleable__label-arrow\">GaussianNB</label><div class=\"sk-toggleable__content\"><pre>GaussianNB()</pre></div></div></div></div></div>"
      ],
      "text/plain": [
       "GaussianNB()"
      ]
     },
     "execution_count": 102,
     "metadata": {},
     "output_type": "execute_result"
    }
   ],
   "source": [
    "from sklearn.naive_bayes import GaussianNB\n",
    "\n",
    "gnb = gnb = GaussianNB()\n",
    "gnb.fit(X_train, y_train)"
   ]
  },
  {
   "cell_type": "markdown",
   "id": "48a9ffca-f1e9-4d98-86c0-5a6d8c215177",
   "metadata": {},
   "source": [
    "### Applying Model for Predictions "
   ]
  },
  {
   "cell_type": "code",
   "execution_count": 103,
   "id": "4c0f4341-c43d-4b83-9da6-8e96800470d4",
   "metadata": {
    "tags": []
   },
   "outputs": [
    {
     "name": "stdout",
     "output_type": "stream",
     "text": [
      "[0 0 1 ... 2 0 2]\n",
      "[1 0 2 ... 2 0 0]\n"
     ]
    }
   ],
   "source": [
    "y_gnb_train_pred = gnb.predict(X_train)\n",
    "y_gnb_test_pred = gnb.predict(X_test)\n",
    "\n",
    "print(y_gnb_train_pred)\n",
    "print(y_gnb_test_pred)"
   ]
  },
  {
   "cell_type": "markdown",
   "id": "382ea199-ac92-49b3-8c60-ed8be71bc13a",
   "metadata": {},
   "source": [
    "### Evaluating Model Performance "
   ]
  },
  {
   "cell_type": "code",
   "execution_count": 104,
   "id": "481569cf-6b70-4d53-9f29-02ae75fda0fe",
   "metadata": {
    "tags": []
   },
   "outputs": [
    {
     "name": "stdout",
     "output_type": "stream",
     "text": [
      "0.3454375 0.3375\n"
     ]
    }
   ],
   "source": [
    "# Accuracy Score\n",
    "\n",
    "gnb_train_as = accuracy_score(y_train, y_gnb_train_pred)\n",
    "gnb_test_as = accuracy_score(y_test, y_gnb_test_pred)\n",
    "\n",
    "print(gnb_train_as, gnb_test_as)"
   ]
  },
  {
   "cell_type": "code",
   "execution_count": 105,
   "id": "280f7cd5-6598-4343-9780-a3ad6bfac66f",
   "metadata": {
    "tags": []
   },
   "outputs": [
    {
     "name": "stdout",
     "output_type": "stream",
     "text": [
      "              precision    recall  f1-score   support\n",
      "\n",
      "           0       0.34      0.40      0.37      5382\n",
      "           1       0.35      0.27      0.31      5282\n",
      "           2       0.35      0.36      0.35      5336\n",
      "\n",
      "    accuracy                           0.35     16000\n",
      "   macro avg       0.35      0.35      0.34     16000\n",
      "weighted avg       0.35      0.35      0.34     16000\n",
      "               precision    recall  f1-score   support\n",
      "\n",
      "           0       0.34      0.41      0.37      1323\n",
      "           1       0.34      0.25      0.29      1371\n",
      "           2       0.33      0.35      0.34      1306\n",
      "\n",
      "    accuracy                           0.34      4000\n",
      "   macro avg       0.34      0.34      0.33      4000\n",
      "weighted avg       0.34      0.34      0.33      4000\n",
      "\n"
     ]
    }
   ],
   "source": [
    "# Classification Report \n",
    "\n",
    "gnb_train_cr = classification_report(y_train, y_gnb_train_pred)\n",
    "gnb_test_cr = classification_report(y_test, y_gnb_test_pred)\n",
    "\n",
    "print(gnb_train_cr, gnb_test_cr)"
   ]
  },
  {
   "cell_type": "markdown",
   "id": "5a182756-a1a5-43c2-9886-3cf3613b460d",
   "metadata": {},
   "source": [
    "#### Best Model"
   ]
  },
  {
   "cell_type": "code",
   "execution_count": 106,
   "id": "6df4b07d-c95b-4fea-8924-66ae43912dc6",
   "metadata": {
    "tags": []
   },
   "outputs": [
    {
     "name": "stdout",
     "output_type": "stream",
     "text": [
      "Best Model: SVC\n",
      "Best Accuracy: 0.339\n"
     ]
    }
   ],
   "source": [
    "models = {\n",
    "    \"Random Forest\": (rf, accuracy_score(y_test, y_gnb_test_pred)),\n",
    "    \"SVC\": (svc, accuracy_score(y_test, y_svc_test_pred)),\n",
    "    \"Gaussian Naive Bayes\": (gnb, accuracy_score(y_test, y_gnb_test_pred))\n",
    "}\n",
    "\n",
    "best_model_name = max(models, key=lambda k: models[k][1])\n",
    "best_model, best_accuracy = models[best_model_name]\n",
    "\n",
    "print(f\"Best Model: {best_model_name}\")\n",
    "print(f\"Best Accuracy: {best_accuracy:.3f}\")"
   ]
  },
  {
   "cell_type": "markdown",
   "id": "d49cce16-9b89-4cc4-b66d-e93fa038547e",
   "metadata": {},
   "source": [
    "#### Testing"
   ]
  },
  {
   "cell_type": "code",
   "execution_count": 108,
   "id": "b63c9ea9-8d42-4153-8cf4-0fd73bafc704",
   "metadata": {
    "tags": []
   },
   "outputs": [],
   "source": [
    "def decode_prediction(encoded_value):\n",
    "    # Assuming 0 = normal, 1 = abnormal, 2 = inconclusive\n",
    "    # Adjust this mapping if your encoding is different\n",
    "    mapping = {0: \"Normal\", 1: \"Abnormal\", 2: \"Inconclusive\"}\n",
    "    return mapping.get(encoded_value, \"Unknown\")"
   ]
  },
  {
   "cell_type": "code",
   "execution_count": 109,
   "id": "8dfbceda-513a-47e3-8d64-b3735832da1a",
   "metadata": {
    "tags": []
   },
   "outputs": [
    {
     "name": "stdout",
     "output_type": "stream",
     "text": [
      "Sample | Actual | RandomForest | SVC | Naive Bayes\n",
      "------------------------------------------------------------\n",
      "     1 | Abnormal | Normal      | Inconclusive | Abnormal   \n",
      "     2 | Abnormal | Normal      | Normal | Normal     \n",
      "     3 | Normal  | Inconclusive | Inconclusive | Inconclusive\n",
      "     4 | Normal  | Normal      | Normal | Normal     \n",
      "     5 | Abnormal | Inconclusive | Inconclusive | Inconclusive\n",
      "\n",
      "Accuracy on these samples:\n",
      "Random Forest: 0.20\n",
      "SVC: 0.20\n",
      "Naive Bayes: 0.40\n"
     ]
    }
   ],
   "source": [
    "# Select a few samples from your dataset\n",
    "num_samples = 5\n",
    "test_samples = X_test.iloc[:num_samples]\n",
    "actual_results = y_test.iloc[:num_samples]\n",
    "\n",
    "# Make predictions using each model\n",
    "rf_predictions = rf.predict(test_samples)\n",
    "svc_predictions = svc.predict(test_samples)\n",
    "gnb_predictions = gnb.predict(test_samples)\n",
    "\n",
    "# Print the results\n",
    "print(\"Sample | Actual | RandomForest | SVC | Naive Bayes\")\n",
    "print(\"-\" * 60)\n",
    "for i in range(num_samples):\n",
    "    actual = decode_prediction(actual_results.iloc[i])\n",
    "    rf_pred = decode_prediction(rf_predictions[i])\n",
    "    svc_pred = decode_prediction(svc_predictions[i])\n",
    "    gnb_pred = decode_prediction(gnb_predictions[i])\n",
    "    \n",
    "    print(f\"{i+1:6d} | {actual:7s} | {rf_pred:11s} | {svc_pred:3s} | {gnb_pred:11s}\")\n",
    "\n",
    "# Calculate accuracy for these samples\n",
    "rf_accuracy = accuracy_score(actual_results, rf_predictions)\n",
    "svc_accuracy = accuracy_score(actual_results, svc_predictions)\n",
    "gnb_accuracy = accuracy_score(actual_results, gnb_predictions)\n",
    "\n",
    "print(\"\\nAccuracy on these samples:\")\n",
    "print(f\"Random Forest: {rf_accuracy:.2f}\")\n",
    "print(f\"SVC: {svc_accuracy:.2f}\")\n",
    "print(f\"Naive Bayes: {gnb_accuracy:.2f}\")"
   ]
  },
  {
   "cell_type": "code",
   "execution_count": 110,
   "id": "d4717554-b019-4c7b-b3b4-2a9bef082b91",
   "metadata": {
    "tags": []
   },
   "outputs": [
    {
     "name": "stdout",
     "output_type": "stream",
     "text": [
      "Predictions for the sample input:\n",
      "Random Forest: Abnormal\n",
      "SVC: Abnormal\n",
      "Naive Bayes: Inconclusive\n"
     ]
    }
   ],
   "source": [
    "# Create a sample input\n",
    "sample_input = pd.DataFrame({\n",
    "    'Name': [0],  # Use encoded values here\n",
    "    'Age': [30],\n",
    "    'Gender': [0],\n",
    "    'Blood Type': [1],\n",
    "    'Medical Condition': [2],\n",
    "    'Admission Type': [0],\n",
    "    'Medication': [3],\n",
    "    'Date of Admission': [100],\n",
    "    'Discharge Date': [105]\n",
    "})\n",
    "\n",
    "# Make predictions\n",
    "rf_pred = rf.predict(sample_input)[0]\n",
    "svc_pred = svc.predict(sample_input)[0]\n",
    "gnb_pred = gnb.predict(sample_input)[0]\n",
    "\n",
    "print(\"Predictions for the sample input:\")\n",
    "print(f\"Random Forest: {decode_prediction(rf_pred)}\")\n",
    "print(f\"SVC: {decode_prediction(svc_pred)}\")\n",
    "print(f\"Naive Bayes: {decode_prediction(gnb_pred)}\")"
   ]
  },
  {
   "cell_type": "code",
   "execution_count": null,
   "id": "0fb0d97e-9560-4359-98f4-ab82d1a66b1c",
   "metadata": {},
   "outputs": [],
   "source": []
  }
 ],
 "metadata": {
  "kernelspec": {
   "display_name": "Python 3 (ipykernel)",
   "language": "python",
   "name": "python3"
  },
  "language_info": {
   "codemirror_mode": {
    "name": "ipython",
    "version": 3
   },
   "file_extension": ".py",
   "mimetype": "text/x-python",
   "name": "python",
   "nbconvert_exporter": "python",
   "pygments_lexer": "ipython3",
   "version": "3.11.4"
  }
 },
 "nbformat": 4,
 "nbformat_minor": 5
}
